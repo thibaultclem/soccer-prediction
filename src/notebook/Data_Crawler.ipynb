{
 "cells": [
  {
   "cell_type": "markdown",
   "metadata": {},
   "source": [
    "Extract the data from http://www.football-data.co.uk/, Transform them and Load them in a Database."
   ]
  },
  {
   "cell_type": "code",
   "execution_count": null,
   "metadata": {
    "collapsed": true
   },
   "outputs": [],
   "source": [
    "# Import library\n",
    "import json\n",
    "import sqlite3\n",
    "import requests\n",
    "import io\n",
    "import pandas as pd # data processing, CSV file I/O\n",
    "from IPython.display import display # Manage multiple output per cell"
   ]
  },
  {
   "cell_type": "code",
   "execution_count": null,
   "metadata": {
    "collapsed": true
   },
   "outputs": [],
   "source": [
    "# DB Sqlite connection\n",
    "db = \"./data/db/soccer_predict.sqlite\"\n",
    "conn = sqlite3.connect(db)\n",
    "cur = conn.cursor()"
   ]
  },
  {
   "cell_type": "code",
   "execution_count": null,
   "metadata": {
    "collapsed": true
   },
   "outputs": [],
   "source": [
    "# Clean Database\n",
    "cur.execute('DROP TABLE IF EXISTS macths_raw')\n",
    "cur.execute('DROP TABLE IF EXISTS pre_matchs')\n",
    "conn.commit()"
   ]
  },
  {
   "cell_type": "code",
   "execution_count": null,
   "metadata": {
    "collapsed": true
   },
   "outputs": [],
   "source": [
    "# Configuration\n",
    "leagues = ['D1', 'E0', 'E1', 'E2', 'F1', 'I1', 'SP1', 'SC0']\n",
    "seasons = ['0910', '1011', '1112', '1213', '1314', '1415', '1516', '1617']\n",
    "website = \"http://www.football-data.co.uk/mmz4281\""
   ]
  },
  {
   "cell_type": "code",
   "execution_count": null,
   "metadata": {
    "collapsed": true
   },
   "outputs": [],
   "source": [
    "# Crawl Data from internet to get result on a league for a specific season\n",
    "def crawlLeagueBySeason( season, league ):\n",
    "    url = website+\"/\"+season+\"/\"+league+\".csv\"\n",
    "    req = requests.get(url).content\n",
    "    df = pd.read_csv(io.StringIO(req.decode('utf-8')))\n",
    "    # Remove not use columns only for premier league\n",
    "    if 'Attendance' in df.columns:\n",
    "        df = df[df.columns.drop(['Attendance'])]\n",
    "    if 'Referee' in df.columns:\n",
    "        df = df[df.columns.drop(['Referee'])]\n",
    "    if 'SBH' in df.columns:\n",
    "        df = df[df.columns.drop(['SBH'])]\n",
    "    if 'SBD' in df.columns:\n",
    "        df = df[df.columns.drop(['SBD'])]\n",
    "    if 'SBA' in df.columns:\n",
    "        df = df[df.columns.drop(['SBA'])]\n",
    "    # Transform Date column to Date Type\n",
    "    df['Date'] = pd.to_datetime(df['Date'], format='%d/%m/%y')\n",
    "    # Insert to DB\n",
    "    df.to_sql(\"macths_raw\", conn, if_exists=\"append\")\n",
    "    display(league, season,100. * df.FTR.value_counts() / len(df.FTR))"
   ]
  },
  {
   "cell_type": "code",
   "execution_count": null,
   "metadata": {
    "scrolled": false
   },
   "outputs": [],
   "source": [
    "# Crawl all seasons for all leagues\n",
    "for league in leagues:\n",
    "    for season in seasons:\n",
    "        crawlLeagueBySeason(season, league)"
   ]
  },
  {
   "cell_type": "code",
   "execution_count": null,
   "metadata": {
    "collapsed": true,
    "scrolled": false
   },
   "outputs": [],
   "source": [
    "# Get all data for pre match on away team\n",
    "def homeData( date, team, div, nb_matches, nb_matches_string ):\n",
    "    # Dataframe to return with all info\n",
    "    dic = {}\n",
    "    # Home team query\n",
    "    #TODO Recuperer aussi combien de buts ils se sont pris dans la tronche et tout et tout\n",
    "    queryHome = '''\n",
    "            SELECT Date, FTHG, FTR, HTHG, HTR, HS, HST, HF, HC, HY, HR, FTAG, HTAG, `AS`, AST, AF, AC, AY, AR\n",
    "            FROM macths_raw\n",
    "            WHERE Date < ? AND HomeTeam = ? AND Div = ? ORDER BY Date DESC LIMIT ?'''\n",
    "    # Get the previous home game of the Home Team\n",
    "    df_home = pd.read_sql(queryHome, conn, params=[date, team, div, nb_matches])\n",
    "    # Hot-encode Category Full Time Result and Half Time Result\n",
    "    df_home = pd.get_dummies(df_home, columns=['FTR', 'HTR'])\n",
    "    # Calculate the mean of all columns\n",
    "    #display(df_home.head())\n",
    "    dic['H_'+nb_matches_string+'_FTHG'] = round(df_home.FTHG.mean(), 2)\n",
    "    dic['H_'+nb_matches_string+'_FTR_H'] = 0 if 'FTR_H'not in df_home.columns else round(df_home.FTR_H.mean(), 2)\n",
    "    dic['H_'+nb_matches_string+'_FTR_D'] = 0 if 'FTR_D' not in df_home.columns else round(df_home.FTR_D.mean(), 2)\n",
    "    dic['H_'+nb_matches_string+'_FTR_A'] = 0 if 'FTR_A' not in df_home.columns else round(df_home.FTR_A.mean(), 2)\n",
    "    dic['H_'+nb_matches_string+'_HTHG'] = round(df_home.HTHG.mean(), 2)\n",
    "    dic['H_'+nb_matches_string+'_HTR_H'] = 0 if 'HTR_H' not in df_home.columns else round(df_home.HTR_H.mean(), 2)\n",
    "    dic['H_'+nb_matches_string+'_HTR_D'] = 0 if 'HTR_D' not in df_home.columns else round(df_home.HTR_D.mean(), 2)\n",
    "    dic['H_'+nb_matches_string+'_HTR_A'] = 0 if 'HTR_A' not in df_home.columns else round(df_home.HTR_A.mean(), 2)\n",
    "    dic['H_'+nb_matches_string+'_HS'] = round(df_home.HS.mean(), 2)\n",
    "    dic['H_'+nb_matches_string+'_HST'] = round(df_home.HST.mean(), 2)\n",
    "    dic['H_'+nb_matches_string+'_HF'] = round( df_home.HF.mean(), 2)\n",
    "    dic['H_'+nb_matches_string+'_HC'] = round(df_home.HC.mean(), 2)\n",
    "    dic['H_'+nb_matches_string+'_HY'] = round(df_home.HY.mean(), 2)\n",
    "    dic['H_'+nb_matches_string+'_HR'] = round(df_home.HR.mean(), 2)\n",
    "    dic['H_'+nb_matches_string+'_FTAG'] = round(df_home.FTAG.mean(), 2)\n",
    "    dic['H_'+nb_matches_string+'_HTAG'] = round(df_home.HTAG.mean(), 2)\n",
    "    dic['H_'+nb_matches_string+'_AS'] = round(df_home.AS.mean(), 2)\n",
    "    dic['H_'+nb_matches_string+'_AST'] = round(df_home.AST.mean(), 2)\n",
    "    dic['H_'+nb_matches_string+'_AF'] = round(df_home.AF.mean(), 2)\n",
    "    dic['H_'+nb_matches_string+'_AC'] = round(df_home.AC.mean(), 2)\n",
    "    dic['H_'+nb_matches_string+'_AY'] = round(df_home.AY.mean(), 2)\n",
    "    dic['H_'+nb_matches_string+'_AR'] = round(df_home.AR.mean(), 2)\n",
    "    return dic"
   ]
  },
  {
   "cell_type": "code",
   "execution_count": null,
   "metadata": {
    "collapsed": true
   },
   "outputs": [],
   "source": [
    "# Get all data for pre match on away team\n",
    "def awayData( date, team, div, nb_matches, nb_matches_string ):\n",
    "    # Dataframe to return with all info\n",
    "    dic = {}\n",
    "    # away team query\n",
    "    #TODO Recuperer aussi combien de buts ils se sont pris dans la tronche et tout et tout\n",
    "    queryAway = '''\n",
    "            SELECT Date, FTAG, FTR, HTAG, HTR, `AS`, AST, AF, AC, AY, AR, FTHG, HTHG, HS, HST, HF, HC, HY, HR\n",
    "            FROM macths_raw\n",
    "            WHERE Date < ? AND AwayTeam = ? AND Div = ? ORDER BY Date DESC LIMIT ?'''\n",
    "    # Get the previous away game of the away Team\n",
    "    df_away = pd.read_sql(queryAway, conn, params=[date, team, div, nb_matches])\n",
    "    # Hot-encode Category Full Time Result and Half Time Result\n",
    "    df_away = pd.get_dummies(df_away, columns=['FTR', 'HTR'])\n",
    "    # Calculate the mean of all columns\n",
    "    #display(df_away.head())\n",
    "    dic['A_'+nb_matches_string+'_FTAG'] = round(df_away.FTAG.mean(), 2)\n",
    "    dic['A_'+nb_matches_string+'_FTR_H'] = 0 if 'FTR_H'not in df_away.columns else round(df_away.FTR_H.mean(), 2)\n",
    "    dic['A_'+nb_matches_string+'_FTR_D'] = 0 if 'FTR_D' not in df_away.columns else round(df_away.FTR_D.mean(), 2)\n",
    "    dic['A_'+nb_matches_string+'_FTR_A'] = 0 if 'FTR_A' not in df_away.columns else round(df_away.FTR_A.mean(), 2)\n",
    "    dic['A_'+nb_matches_string+'_HTAG'] = round(df_away.HTAG.mean(), 2)\n",
    "    dic['A_'+nb_matches_string+'_HTR_H'] = 0 if 'HTR_H' not in df_away.columns else round(df_away.HTR_H.mean(), 2)\n",
    "    dic['A_'+nb_matches_string+'_HTR_D'] = 0 if 'HTR_D' not in df_away.columns else round(df_away.HTR_D.mean(), 2)\n",
    "    dic['A_'+nb_matches_string+'_HTR_A'] = 0 if 'HTR_A' not in df_away.columns else round(df_away.HTR_A.mean(), 2)\n",
    "    dic['A_'+nb_matches_string+'_AS'] = round(df_away.AS.mean(), 2)\n",
    "    dic['A_'+nb_matches_string+'_AST'] = round(df_away.AST.mean(), 2)\n",
    "    dic['A_'+nb_matches_string+'_AF'] = round(df_away.AF.mean(), 2)\n",
    "    dic['A_'+nb_matches_string+'_AC'] = round(df_away.AC.mean(), 2)\n",
    "    dic['A_'+nb_matches_string+'_AY'] = round(df_away.AY.mean(), 2)\n",
    "    dic['A_'+nb_matches_string+'_AR'] = round(df_away.AR.mean(), 2)\n",
    "    dic['A_'+nb_matches_string+'_FTHG'] = round(df_away.FTHG.mean(), 2)\n",
    "    dic['A_'+nb_matches_string+'_HTHG'] = round(df_away.HTHG.mean(), 2)\n",
    "    dic['A_'+nb_matches_string+'_HS'] = round(df_away.HS.mean(), 2)\n",
    "    dic['A_'+nb_matches_string+'_HST'] = round(df_away.HST.mean(), 2)\n",
    "    dic['A_'+nb_matches_string+'_HF'] = round( df_away.HF.mean(), 2)\n",
    "    dic['A_'+nb_matches_string+'_HC'] = round(df_away.HC.mean(), 2)\n",
    "    dic['A_'+nb_matches_string+'_HY'] = round(df_away.HY.mean(), 2)\n",
    "    dic['A_'+nb_matches_string+'_HR'] = round(df_away.HR.mean(), 2)\n",
    "    return dic"
   ]
  },
  {
   "cell_type": "code",
   "execution_count": null,
   "metadata": {},
   "outputs": [],
   "source": [
    "# Compute all pre matchs and insert them in pre_match table\n",
    "df_macths_raw = pd.read_sql_query(\"SELECT Div, Date, HomeTeam, AwayTeam, FTHG, FTAG, FTR, HTHG, HTAG, HTR, HS, `AS`, HST, AST, HF, AF, HC, AC, HY, AY, HR, AR, PSH, PSD, PSA, BbAvH, BbAvD, BbAvA FROM macths_raw ORDER BY Date ASC;\", conn)\n",
    "for index, row in df_macths_raw.iterrows():\n",
    "    #display(row)\n",
    "    \n",
    "    # HOME TEAM\n",
    "    # Get the 5 previous home game of the Home Team\n",
    "    dic_home_five = homeData(row.Date, row.HomeTeam, row.Div, 5, 'FIVE')\n",
    "    #display(df_home_five)\n",
    "    # Get the 3 previous home game of the Home Team\n",
    "    dic_home_three = homeData(row.Date, row.HomeTeam, row.Div, 3, 'THREE')\n",
    "    #display(df_home_three)\n",
    "    \n",
    "    # AWAY TEAM\n",
    "    # Get the 5 previous away game of the Away Team\n",
    "    dic_away_five = awayData(row.Date, row.AwayTeam, row.Div, 5, 'FIVE')\n",
    "    #display(df_away_five)\n",
    "    # Get the 3 previous away game of the Away Team\n",
    "    dic_away_three = awayData(row.Date, row.AwayTeam, row.Div, 3, 'THREE')\n",
    "    #display(df_away_three)\n",
    "    \n",
    "    # Merge different dataset together\n",
    "    #dic_all = dic_home_five.copy().update(dic_home_three)\n",
    "    dic_all = dict(dic_home_five.items() + dic_home_three.items() + dic_away_five.items() + dic_away_three.items())\n",
    "    # Add division and date\n",
    "    dic_all['INFO_Div'] = row['Div']\n",
    "    dic_all['INFO_Date'] = row['Date']\n",
    "    # Add info on result\n",
    "    dic_all['INFO_HomeTeam'] = row['HomeTeam']\n",
    "    dic_all['INFO_AwayTeam'] = row['AwayTeam']\n",
    "    dic_all['INFO_FTR'] = row['FTR']\n",
    "    dic_all['INFO_HTR'] = row['HTR']\n",
    "    dic_all['INFO_FTHG'] = row['FTHG']\n",
    "    dic_all['INFO_FTAG'] = row['FTAG']\n",
    "    # Add all Bet\n",
    "    dic_all['INFO_PSH'] = row['PSH']\n",
    "    dic_all['INFO_PSD'] = row['PSD']\n",
    "    dic_all['INFO_PSA'] = row['PSA']\n",
    "    dic_all['INFO_BbAvH'] = row['BbAvH']\n",
    "    dic_all['INFO_BbAvD'] = row['BbAvD']\n",
    "    dic_all['INFO_BbAvA'] = row['BbAvA']\n",
    "    df_pre_matches = pd.DataFrame.from_dict([dic_all], orient='columns')\n",
    "    df_pre_matches.to_sql(\"pre_matchs\", conn, if_exists=\"append\")\n",
    "\n",
    "df_macths_raw.shape"
   ]
  },
  {
   "cell_type": "code",
   "execution_count": null,
   "metadata": {
    "collapsed": true
   },
   "outputs": [],
   "source": []
  }
 ],
 "metadata": {
  "kernelspec": {
   "display_name": "Python 2",
   "language": "python",
   "name": "python2"
  },
  "language_info": {
   "codemirror_mode": {
    "name": "ipython",
    "version": 2
   },
   "file_extension": ".py",
   "mimetype": "text/x-python",
   "name": "python",
   "nbconvert_exporter": "python",
   "pygments_lexer": "ipython2",
   "version": "2.7.13"
  }
 },
 "nbformat": 4,
 "nbformat_minor": 2
}
